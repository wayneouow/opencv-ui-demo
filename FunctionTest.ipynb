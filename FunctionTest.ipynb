{
 "cells": [
  {
   "cell_type": "code",
   "execution_count": 6,
   "id": "16d80f8b-0dbe-45c8-9c20-f217ca2bb109",
   "metadata": {
    "tags": []
   },
   "outputs": [],
   "source": [
    "import cv2\n",
    "import numpy as np\n",
    "import matplotlib.pyplot as plt"
   ]
  },
  {
   "cell_type": "code",
   "execution_count": 2,
   "id": "a2e63859-b0bb-4370-ac46-66a53371f506",
   "metadata": {
    "tags": []
   },
   "outputs": [],
   "source": [
    "def ColorSeparate():\n",
    "    img = cv2.imread(\"Q1_image/rgb.jpg\")\n",
    "    b,g,r = cv2.split(img)\n",
    "    img = cv2.cvtColor(img, cv2.COLOR_BGR2GRAY)\n",
    "    z = np.zeros_like(img)\n",
    "    b = cv2.merge([b,z,z])\n",
    "    g = cv2.merge([z,g,z])\n",
    "    r = cv2.merge([z,z,r])\n",
    "    cv2.imshow(\"blue\",b)\n",
    "    cv2.imshow(\"green\",g)\n",
    "    cv2.imshow(\"red\",r)\n",
    "    cv2.waitKey(0)\n",
    "    cv2.destroyAllWindows()"
   ]
  },
  {
   "cell_type": "code",
   "execution_count": 3,
   "id": "fa08d7ef-018a-4a43-abc4-3fd96e4776a6",
   "metadata": {},
   "outputs": [],
   "source": [
    "ColorSeparate()"
   ]
  },
  {
   "cell_type": "code",
   "execution_count": null,
   "id": "e755d790-b84b-4b48-9d2f-a827d7d779f8",
   "metadata": {
    "tags": []
   },
   "outputs": [],
   "source": [
    "def ColorTransform():\n",
    "    img = cv2.imread(\"Q1_image/rgb.jpg\")\n",
    "    gray_cvt = cv2.cvtColor(img, cv2.COLOR_BGR2GRAY)\n",
    "    b,g,r = cv2.split(img)  \n",
    "    gray_avg = cv2.addWeighted(b, 0.333, g, 0.333, 0)\n",
    "    gray_avg = cv2.addWeighted(gray_avg, 0.667, r, 0.333, 0)\n",
    "    cv2.imshow(\"gray_cvt\",gray_cvt)\n",
    "    cv2.imshow(\"gray_avg\",gray_avg)\n",
    "    cv2.waitKey(0)\n",
    "    cv2.destroyAllWindows()"
   ]
  },
  {
   "cell_type": "code",
   "execution_count": null,
   "metadata": {},
   "outputs": [],
   "source": [
    "ColorTransform()"
   ]
  },
  {
   "cell_type": "code",
   "execution_count": 8,
   "id": "bb8763ad-b837-4311-af35-ba2366e758a2",
   "metadata": {
    "tags": []
   },
   "outputs": [],
   "source": [
    "def ColorExtract():\n",
    "    img = cv2.imread(\"Q1_image/rgb.jpg\")\n",
    "    hsv_img = cv2.cvtColor(img, cv2.COLOR_BGR2HSV)\n",
    "    mask = cv2.inRange(hsv_img, (20, 25, 25), (85, 255,255))\n",
    "    mask_bgr = cv2.cvtColor(mask, cv2.COLOR_GRAY2BGR)\n",
    "    ex_img = cv2.bitwise_not(mask_bgr, img, mask=mask)\n",
    "    cv2.imshow(\"mask\",mask)\n",
    "    cv2.imshow(\"ex\",ex_img)\n",
    "    cv2.waitKey(0)\n",
    "    cv2.destroyAllWindows()"
   ]
  },
  {
   "cell_type": "code",
   "execution_count": 9,
   "metadata": {},
   "outputs": [],
   "source": [
    "ColorExtract()"
   ]
  },
  {
   "cell_type": "code",
   "execution_count": 11,
   "id": "03ca24ef-bf51-4da1-8955-3e2bcbd0f4f0",
   "metadata": {
    "tags": []
   },
   "outputs": [],
   "source": [
    "def GaussianBlur():\n",
    "    img = cv2.imread(\"Q2_image/image1.jpg\")\n",
    "    cv2.imshow('GaussianBlur', img)   \n",
    "    def fn(val):\n",
    "        blur = cv2.GaussianBlur(img, (2*val+1, 2*val+1), 0)\n",
    "        cv2.imshow('GaussianBlur', blur)  \n",
    "    cv2.createTrackbar('m', 'GaussianBlur',0, 5, fn)\n",
    "    keycode = cv2.waitKey(0)\n",
    "    cv2.destroyAllWindows()"
   ]
  },
  {
   "cell_type": "code",
   "execution_count": 12,
   "metadata": {},
   "outputs": [],
   "source": [
    "GaussianBlur()"
   ]
  },
  {
   "cell_type": "code",
   "execution_count": 14,
   "id": "5de8427c-da2c-4ca5-8667-dd48c27d8b92",
   "metadata": {
    "tags": []
   },
   "outputs": [],
   "source": [
    "def BilateralFilter():\n",
    "    img = cv2.imread(\"Q2_image/image1.jpg\")\n",
    "    cv2.imshow('BilateralFilter', img)\n",
    "    def fn(val):\n",
    "        bilateral = cv2.bilateralFilter(img, 2*val+1, 90, 90)\n",
    "        cv2.imshow('BilateralFilter', bilateral )\n",
    "    cv2.createTrackbar('m', 'BilateralFilter',0, 5, fn)\n",
    "    keycode = cv2.waitKey(0)\n",
    "    cv2.destroyAllWindows()"
   ]
  },
  {
   "cell_type": "code",
   "execution_count": 15,
   "metadata": {},
   "outputs": [],
   "source": [
    "BilateralFilter()"
   ]
  },
  {
   "cell_type": "code",
   "execution_count": 16,
   "id": "536039e9-b76f-4e94-8097-a1f67701cd2d",
   "metadata": {
    "tags": []
   },
   "outputs": [],
   "source": [
    "def MedianBlur():\n",
    "    img = cv2.imread(\"Q2_image/image2.jpg\")\n",
    "    cv2.imshow('MedianBlur', img)\n",
    "    def fn(val):\n",
    "        blur = cv2.medianBlur(img, 2*val+1)\n",
    "        cv2.imshow('MedianBlur', blur )    \n",
    "    cv2.createTrackbar('m', 'MedianBlur',0, 5, fn)\n",
    "    keycode = cv2.waitKey(0)\n",
    "    cv2.destroyAllWindows()"
   ]
  },
  {
   "cell_type": "code",
   "execution_count": 17,
   "metadata": {},
   "outputs": [],
   "source": [
    "MedianBlur()"
   ]
  },
  {
   "cell_type": "code",
   "execution_count": 28,
   "metadata": {},
   "outputs": [],
   "source": [
    "def conv(image, kernel):\n",
    "    image = np.pad (image, [(1, 1), (1, 1) ], mode= 'constant', constant_values=0)\n",
    "    kernel_h, kernel_w = kernel.shape\n",
    "    height, width = image.shape\n",
    "    \n",
    "    new_image = np.zeros ((height, width)).astype (np. float32)\n",
    "    for y in range(0, height-2):\n",
    "        for x in range(0, width-2) :\n",
    "            new_image[y][x] = np.sum(image[y : y + kernel_h, x : x +kernel_w] * kernel).astype(np.float32)\n",
    "    return new_image\n",
    "    \n",
    "def color_contrast(image, contrast=100):\n",
    "    #contrast = 100\n",
    "    brightness = 0\n",
    "    output = image * (contrast/127 + 1) - contrast + brightness # 轉換公式\n",
    "    output = np.clip(output, 0, 255)\n",
    "    output_image = np.uint8(output)\n",
    "    return output_image"
   ]
  },
  {
   "cell_type": "code",
   "execution_count": 7,
   "id": "a63791f8-632f-462e-b012-69bd8185a832",
   "metadata": {
    "tags": []
   },
   "outputs": [],
   "source": [
    "def Sobelx():\n",
    "    img = cv2.imread(\"Q3_image/building.jpg\")\n",
    "    gray = cv2.cvtColor(img, cv2.COLOR_BGR2GRAY)\n",
    "    gray = cv2.GaussianBlur(gray, (5,5), 0)\n",
    "    xfilter = np.array([[-1, 0, 1],\n",
    "                        [-2, 0, 2],\n",
    "                        [-1, 0, 1]])\n",
    "    height, width = gray.shape[:2]\n",
    "    global sobel_x, sobel_x_s\n",
    "    sobel_x = np.zeros_like(gray)\n",
    "    sobel_x_s = np.zeros_like(gray)\n",
    "    for y in range(1, height-1):\n",
    "        for x in range(1, width-1):\n",
    "            sobel_x[y, x] = np.abs(np.sum(gray[y-1 : y+2, x-1 : x+2] * xfilter))\n",
    "            sobel_x_s[y, x] = np.sum(gray[y-1 : y+2, x-1 : x+2] * xfilter)\n",
    "    cv2.imwrite(\"output/sobel_x.jpg\", sobel_x)\n",
    "    cv2.imshow(\"sobelX\", sobel_x)\n",
    "    cv2.waitKey(0)\n",
    "    cv2.destroyAllWindows()"
   ]
  },
  {
   "cell_type": "code",
   "execution_count": 67,
   "metadata": {},
   "outputs": [],
   "source": [
    "import cv2\n",
    "import numpy as np\n",
    "def SobelxX():\n",
    "    img = cv2.imread(\"Q3_image/building.jpg\")\n",
    "    gray = cv2.cvtColor(img, cv2.COLOR_BGR2GRAY)\n",
    "    gray = cv2.GaussianBlur(gray, (3,3), 0)\n",
    "    xfilter = np.array([[-1, 0, 1],\n",
    "                        [-2, 0, 2],\n",
    "                        [-1, 0, 1]])\n",
    "    pad = xfilter.shape[0]//2\n",
    "    print(pad)\n",
    "    sobel_x = np.zeros_like(gray)\n",
    "    sobel_x_s = np.zeros_like(gray)\n",
    "    output_img = conv(gray, xfilter)\n",
    "    output_img = output_img * 0.8 -80\n",
    "    \n",
    "    cv2.imshow(\"sobelX\", output_img)\n",
    "    cv2.waitKey(0)\n",
    "    cv2.destroyAllWindows()"
   ]
  },
  {
   "cell_type": "code",
   "execution_count": 68,
   "metadata": {},
   "outputs": [
    {
     "name": "stdout",
     "output_type": "stream",
     "text": [
      "1\n"
     ]
    }
   ],
   "source": [
    "SobelxX()"
   ]
  },
  {
   "cell_type": "code",
   "execution_count": 9,
   "id": "a5feab1b-dd2e-452a-a6c8-c1cce641e36c",
   "metadata": {
    "tags": []
   },
   "outputs": [],
   "source": [
    "def Sobely():\n",
    "    img = cv2.imread(\"Q3_image/building.jpg\")\n",
    "    gray = cv2.cvtColor(img, cv2.COLOR_BGR2GRAY)\n",
    "    gray = cv2.GaussianBlur(gray, (5,5), 0)\n",
    "    yfilter = np.array([[-1,-2,-1],\n",
    "                        [ 0, 0, 0],\n",
    "                        [ 1, 2, 1]])\n",
    "    height, width = gray.shape[:2]\n",
    "    global sobel_y, sobel_y_s\n",
    "    sobel_y = np.zeros_like(gray)\n",
    "    sobel_y_s = np.zeros_like(gray)\n",
    "    for y in range(1, height-1):\n",
    "        for x in range(1, width-1):\n",
    "            sobel_y[y, x] = np.abs(np.sum(gray[y-1 : y+2, x-1 : x+2] * yfilter))\n",
    "            sobel_y_s[y, x] = np.sum(gray[y-1 : y+2, x-1 : x+2] * yfilter)\n",
    "    cv2.imwrite(\"output/sobel_y.jpg\", sobel_y)\n",
    "    cv2.imshow(\"sobelY\", sobel_y)\n",
    "    cv2.waitKey(0)\n",
    "    cv2.destroyAllWindows()"
   ]
  },
  {
   "cell_type": "code",
   "execution_count": 10,
   "metadata": {},
   "outputs": [],
   "source": [
    "Sobely()"
   ]
  },
  {
   "cell_type": "code",
   "execution_count": 27,
   "id": "31204db0-3213-4149-a6f0-d4d0426ba216",
   "metadata": {
    "tags": []
   },
   "outputs": [],
   "source": [
    "def SobelCombination():\n",
    "    #sx = cv2.imread(\"output/sobel_x.jpg\", cv2.IMREAD_GRAYSCALE)\n",
    "    #sy = cv2.imread(\"output/sobel_y.jpg\", cv2.IMREAD_GRAYSCALE)\n",
    "    sx = sobel_x\n",
    "    sy = sobel_y\n",
    "    global com\n",
    "    com = np.zeros_like(sx)\n",
    "    height, width = sx.shape[:2]\n",
    "\n",
    "    for j in range(1, height-1):\n",
    "        for i in range(1, width-1):\n",
    "            com[j,i] = np.sqrt(sx[j,i]**2 + sy[j,i]**2)\n",
    "    com = (com * 255.0 / com.max()).astype(np.uint8)\n",
    "    ret, th = cv2.threshold(com, 128, 255, cv2.THRESH_BINARY)\n",
    "    cv2.imwrite(\"output/sobel_combination.jpg\", com)\n",
    "    cv2.imshow('sobel combination', com)\n",
    "    cv2.imshow('th', th)\n",
    "    cv2.waitKey(0)\n",
    "    cv2.destroyAllWindows()"
   ]
  },
  {
   "cell_type": "code",
   "execution_count": 28,
   "metadata": {},
   "outputs": [],
   "source": [
    "SobelCombination()"
   ]
  },
  {
   "cell_type": "code",
   "execution_count": 33,
   "id": "03a3c470-58f7-44a3-8ed7-431e5e823d2b",
   "metadata": {
    "tags": []
   },
   "outputs": [],
   "source": [
    "def GradientAngle():\n",
    "    # sx = cv2.imread(\"output/sobel_x.jpg\", cv2.IMREAD_GRAYSCALE).astype(np.float32)\n",
    "    # sy = cv2.imread(\"output/sobel_y.jpg\", cv2.IMREAD_GRAYSCALE).astype(np.float32)\n",
    "    if(\"sobel_x_s\" in globals() and \"sobel_y_s\" in globals() and \"com\" in globals()):\n",
    "        sx = sobel_x_s\n",
    "        sy = sobel_y_s\n",
    "        height, width = sx.shape[:2]\n",
    "        mask1 = np.zeros_like(sx)\n",
    "        mask2 = np.zeros_like(sx)\n",
    "        t = np.zeros_like(sx)\n",
    "        t = np.arctan2(sy, sx)*(180/np.pi)+180\n",
    "        for j in range(1, height-1):\n",
    "            for i in range(1, width-1):\n",
    "                if(t[j, i] >= 120. and t[j, i] <= 180):\n",
    "                    mask1[j, i] = 255.\n",
    "                else:\n",
    "                    mask1[j, i] = 0.\n",
    "                if(t[j, i] >= 210. and t[j, i] <= 330):\n",
    "                    mask2[j, i] = 255.\n",
    "                else:\n",
    "                    mask2[j, i] = 0.\n",
    "        g1 = cv2.bitwise_and(com, mask1)             \n",
    "        g2 = cv2.bitwise_and(com, mask2)\n",
    "        #print(t)          \n",
    "        cv2.imshow('mask1', mask1)\n",
    "        cv2.imshow('mask2', mask2)\n",
    "        cv2.imshow('120˚~180˚', g1)\n",
    "        cv2.imshow('210˚~330˚', g2)\n",
    "\n",
    "        cv2.waitKey(0)\n",
    "        cv2.destroyAllWindows()"
   ]
  },
  {
   "cell_type": "code",
   "execution_count": 34,
   "metadata": {},
   "outputs": [],
   "source": [
    "GradientAngle()"
   ]
  },
  {
   "cell_type": "code",
   "execution_count": null,
   "metadata": {},
   "outputs": [],
   "source": [
    "def Transforms():\n",
    "    img = cv2.imread(\"Q4_image/burger.png\")\n",
    "    angle = 30\n",
    "    scale = 0.1\n",
    "    tx = 535\n",
    "    ty = 335\n",
    "    R = cv2.getRotationMatrix2D((240, 200), angle, scale)\n",
    "    img = cv2.warpAffine(img, R,(img.shape[1], img.shape[0]))\n",
    "    M = np.float32([[1, 0, tx], [0, 1, ty]])\n",
    "    img = cv2.warpAffine(img, M,(img.shape[1], img.shape[0]))\n",
    "    \n",
    "    cv2.imshow('b', img)\n",
    "    cv2.waitKey(0)\n",
    "    cv2.destroyAllWindows()\n",
    "Transforms()"
   ]
  },
  {
   "cell_type": "code",
   "execution_count": null,
   "metadata": {},
   "outputs": [],
   "source": [
    "Transforms()"
   ]
  }
 ],
 "metadata": {
  "kernelspec": {
   "display_name": "Python 3 (ipykernel)",
   "language": "python",
   "name": "python3"
  },
  "language_info": {
   "codemirror_mode": {
    "name": "ipython",
    "version": 3
   },
   "file_extension": ".py",
   "mimetype": "text/x-python",
   "name": "python",
   "nbconvert_exporter": "python",
   "pygments_lexer": "ipython3",
   "version": "3.8.18"
  }
 },
 "nbformat": 4,
 "nbformat_minor": 5
}
